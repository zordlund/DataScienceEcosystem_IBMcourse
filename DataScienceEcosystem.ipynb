{
  "nbformat": 4,
  "nbformat_minor": 0,
  "metadata": {
    "colab": {
      "provenance": []
    },
    "kernelspec": {
      "name": "python3",
      "display_name": "Python 3"
    },
    "language_info": {
      "name": "python"
    }
  },
  "cells": [
    {
      "cell_type": "markdown",
      "source": [
        "# Data Science Tools and Ecosystem"
      ],
      "metadata": {
        "id": "BWs5JV7vZl9a"
      }
    },
    {
      "cell_type": "markdown",
      "source": [
        "## Author\n",
        "Elina Nordlund"
      ],
      "metadata": {
        "id": "nHzgxIHhecwE"
      }
    },
    {
      "cell_type": "markdown",
      "source": [
        "In this notebook, Data Science Tools and Ecosystem are summarized."
      ],
      "metadata": {
        "id": "bXdcy8JfZ6TC"
      }
    },
    {
      "cell_type": "markdown",
      "source": [
        "**Objectives:**\n",
        "* List populat data science languages\n",
        "* List popular data science libraries\n",
        "* List popular data science tools\n",
        "* Calcuate arithmetic expressions\n",
        "* Convert minutes to hours"
      ],
      "metadata": {
        "id": "mnquPrxld2w_"
      }
    },
    {
      "cell_type": "markdown",
      "source": [
        "Some of the popular languages that Data Scientists use are:\n",
        "1. Python\n",
        "2. R\n",
        "3. SQL\n",
        "4. Julia"
      ],
      "metadata": {
        "id": "s2U4u028aK6c"
      }
    },
    {
      "cell_type": "markdown",
      "source": [
        "Some of the commonly used libraries used by Data Scientists include:\n",
        "1. Pandas\n",
        "2. Numpy\n",
        "3. Matplotlib"
      ],
      "metadata": {
        "id": "1xvP-ulsanqm"
      }
    },
    {
      "cell_type": "markdown",
      "source": [
        "|Data Science Tools|\n",
        "|------------------|\n",
        "|Jupyter Notebook|\n",
        "|RStudio|\n",
        "|Hadoop|"
      ],
      "metadata": {
        "id": "xAl1rlRFbXE3"
      }
    },
    {
      "cell_type": "markdown",
      "source": [
        "### Below are a few examples of evaluating arithmetic expressions in Python"
      ],
      "metadata": {
        "id": "3BP53wI9cTB0"
      }
    },
    {
      "cell_type": "code",
      "source": [
        "# This a simple arithmetic expression to mutiply then add integers\n",
        "(3*4)+5"
      ],
      "metadata": {
        "colab": {
          "base_uri": "https://localhost:8080/"
        },
        "id": "ZsnY31mQanGt",
        "outputId": "34613f6a-829e-4138-816b-3e0f80bc3243"
      },
      "execution_count": 1,
      "outputs": [
        {
          "output_type": "execute_result",
          "data": {
            "text/plain": [
              "17"
            ]
          },
          "metadata": {},
          "execution_count": 1
        }
      ]
    },
    {
      "cell_type": "code",
      "execution_count": 4,
      "metadata": {
        "colab": {
          "base_uri": "https://localhost:8080/"
        },
        "id": "QyYKarM5ZV4g",
        "outputId": "7b5d630d-8816-4669-a3a3-1a5b8d353f96"
      },
      "outputs": [
        {
          "output_type": "execute_result",
          "data": {
            "text/plain": [
              "3.3333333333333335"
            ]
          },
          "metadata": {},
          "execution_count": 4
        }
      ],
      "source": [
        "# This will convert 200 minutes to hours by dividing by 60\n",
        "200/60\n"
      ]
    }
  ]
}